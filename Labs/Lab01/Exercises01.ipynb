{
 "metadata": {
  "name": "",
  "signature": "sha256:b639aa74e24ea04c0ad2e6b5a8e2036e40d541db623dcebdaac9bcd446315412"
 },
 "nbformat": 3,
 "nbformat_minor": 0,
 "worksheets": [
  {
   "cells": [
    {
     "cell_type": "code",
     "collapsed": false,
     "input": [
      "from IPython.display import Image"
     ],
     "language": "python",
     "metadata": {},
     "outputs": [],
     "prompt_number": 232
    },
    {
     "cell_type": "markdown",
     "metadata": {},
     "source": [
      "Computer lab\n",
      "----\n",
      "\n",
      "These exercises are designed to give you some practice coding in Python and proivde familiarity with the language syntax."
     ]
    },
    {
     "cell_type": "markdown",
     "metadata": {},
     "source": [
      "**Exercise 1 [10 pts]**. Write code to solve the [Project Euler puzzle 1](https://projecteuler.net/problems)"
     ]
    },
    {
     "cell_type": "code",
     "collapsed": false,
     "input": [
      "# Your code here\n",
      "\n",
      "\n",
      "mult3 = set()\n",
      "mult5 = set()\n",
      "\n",
      "mult3.update(range(0,1000,3))\n",
      "mult5.update(range(0,1000,5))\n",
      "\n",
      "unionMult = mult3.union(mult5)\n",
      "listSum=sum(list(unionMult))\n",
      "print(listSum)\n",
      "\n",
      "\n",
      "\n"
     ],
     "language": "python",
     "metadata": {},
     "outputs": [
      {
       "output_type": "stream",
       "stream": "stdout",
       "text": [
        "233168\n"
       ]
      }
     ],
     "prompt_number": 345
    },
    {
     "cell_type": "markdown",
     "metadata": {},
     "source": [
      "**Exericse 2 [10 pts]**. Wikipedia gives the sample correlation coefficient formula as shown below. Write functions to calculate the sample mean, the sample standard deviation and the sample correlation coefficient. Calculate the sample correlation coefficent for the following lists of numbers:\n",
      "\n",
      "```python\n",
      "x = [10.0, 8.0, 13.0, 9.0, 11.0, 14.0, 6.0, 4.0, 12.0, 7.0, 5.0]\n",
      "y = [8.04, 6.95, 7.58, 8.81, 8.33, 9.96, 7.24, 4.26, 10.84, 4.82, 5.68]\n",
      "```\n",
      "\n",
      "Do NOT use `numpy`  functions - the idea is to code the functions yourself! The square root of $x$ can be calculated as ```x**0.5```."
     ]
    },
    {
     "cell_type": "code",
     "collapsed": false,
     "input": [
      "Image(url=\"http://upload.wikimedia.org/math/0/4/e/04e3ee493ddb1f01e03d8bf024fbd0a5.png\")"
     ],
     "language": "python",
     "metadata": {},
     "outputs": [
      {
       "html": [
        "<img src=\"http://upload.wikimedia.org/math/0/4/e/04e3ee493ddb1f01e03d8bf024fbd0a5.png\"/>"
       ],
       "metadata": {},
       "output_type": "pyout",
       "prompt_number": 234,
       "text": [
        "<IPython.core.display.Image at 0x7f70a7d0a450>"
       ]
      }
     ],
     "prompt_number": 234
    },
    {
     "cell_type": "code",
     "collapsed": false,
     "input": [
      "Image(url=\"http://upload.wikimedia.org/math/7/0/d/70df5220933ae8298cd5ef1c719360bf.png\")"
     ],
     "language": "python",
     "metadata": {},
     "outputs": [
      {
       "html": [
        "<img src=\"http://upload.wikimedia.org/math/7/0/d/70df5220933ae8298cd5ef1c719360bf.png\"/>"
       ],
       "metadata": {},
       "output_type": "pyout",
       "prompt_number": 235,
       "text": [
        "<IPython.core.display.Image at 0x7f70a7d0a1d0>"
       ]
      }
     ],
     "prompt_number": 235
    },
    {
     "cell_type": "code",
     "collapsed": false,
     "input": [
      "# Your code here\n",
      "def mean(vec):\n",
      "    return sum(vec)/len(vec)\n",
      "\n",
      "\n",
      "x = [10.0, 8.0, 13.0, 9.0, 11.0, 14.0, 6.0, 4.0, 12.0, 7.0, 5.0]\n",
      "y = [8.04, 6.95, 7.58, 8.81, 8.33, 9.96, 7.24, 4.26, 10.84, 4.82, 5.68]\n",
      "\n",
      "def scc(x,y):\n",
      "\n",
      "    sumDifSqX = 0.0\n",
      "    sumDifSqY = 0.0\n",
      "\n",
      "    for i in range(len(x)):\n",
      "        sumDifSqX += (x[i]-mean(x))**2.0\n",
      "        sumDifSqY += (y[i]-mean(y))**2.0\n",
      "    \n",
      "    sx=((1.0/(float(len(x))-1))*sumDifSqX)**0.5\n",
      "    sy=((1.0/(float(len(y))-1))*sumDifSqY)**0.5\n",
      "\n",
      "    accum=0.0\n",
      "\n",
      "    for i in range(len(x)):    \n",
      "        accum += ((x[i]-mean(x))/sx)*((y[i]-mean(y))/sy)\n",
      "    \n",
      "    \n",
      "    r = accum * (1.0/(len(x)-1.0))\n",
      "    return r\n",
      "\n",
      "\n",
      "print scc(x,y)\n",
      "\n",
      "\n"
     ],
     "language": "python",
     "metadata": {},
     "outputs": [
      {
       "output_type": "stream",
       "stream": "stdout",
       "text": [
        "0.816420516345\n"
       ]
      }
     ],
     "prompt_number": 361
    },
    {
     "cell_type": "markdown",
     "metadata": {},
     "source": [
      "**Exercise 3** [10 pts]. Write a function to calculate hailstone numbers.\n",
      "\n",
      "Start with any positive integer (an initial seed) and obtain a sequence of numbers by following these rules.\n",
      "\n",
      "1. Base case: If the number is 1, stop.\n",
      "2. Recursive case: If the current number is even, divide it by two; else if it is odd, multiply it by three and add one. \n",
      "\n",
      "The seqeunce of numbers obtained are known as *hailstone numbers* - although it is not proven that all sequences will eventually terminate with 1 (Collatz conjecture), no counter-example has yet been found. \n",
      "\n",
      "For example, starting with 7, we get the sequence 7, 22, 11, 34, 17, 52, 26, 13, 40, 20, 10, 5, 16, 8, 4, 2, 1.\n",
      "\n",
      "A recursive function to find the sequence of hailstone numbers is given below. Write a *non-recursive* version of the function that gives the same result. Using your function, what is the length of the sequeence obtained when we start with 23?\n",
      "\n",
      "```python\n",
      "def hailstone(n, acc=None):\n",
      "    \"\"\"Given a positive integer n, return the series of hailstone numbers.\"\"\"\n",
      "    if acc is None:\n",
      "        acc = []\n",
      "    acc.append(n)\n",
      "    if n == 1:\n",
      "        return acc\n",
      "    else:\n",
      "        if n%2 == 0:\n",
      "            return hailstone(n/2, acc)\n",
      "        else:\n",
      "            return hailstone(n*3 + 1, acc)\n",
      "```"
     ]
    },
    {
     "cell_type": "code",
     "collapsed": false,
     "input": [
      "\n",
      "\n",
      "def hailstone(n,acc=None):\n",
      "    if acc is None:\n",
      "        acc = []\n",
      "    while n!=1:\n",
      "        acc.append(n)\n",
      "        \n",
      "        if n%2 == 0:\n",
      "            n=n/2\n",
      "       \n",
      "        else:\n",
      "            n=n*3+1\n",
      "            \n",
      "            \n",
      "    acc.append(n) \n",
      "    \n",
      "    return acc\n",
      "\n",
      "print(hailstone(2301))\n"
     ],
     "language": "python",
     "metadata": {},
     "outputs": [
      {
       "output_type": "stream",
       "stream": "stdout",
       "text": [
        "[2301, 6904, 3452, 1726, 863, 2590, 1295, 3886, 1943, 5830, 2915, 8746, 4373, 13120, 6560, 3280, 1640, 820, 410, 205, 616, 308, 154, 77, 232, 116, 58, 29, 88, 44, 22, 11, 34, 17, 52, 26, 13, 40, 20, 10, 5, 16, 8, 4, 2, 1]\n"
       ]
      }
     ],
     "prompt_number": 237
    },
    {
     "cell_type": "markdown",
     "metadata": {},
     "source": [
      "**Exercise 4 [20 pts]**. A Caesar cipher replaces each in a string with the letter $k$ modulo 26 positions down. For example, with $k=3$, 'a' would become 'd', 'b' would become 'e' and so on. The Caesar cipher is very easy to crack, since the relative letter frequencies are preserved - that is, 'e' is the most commonly used English letter, so the most frequent letter in the cipher is likely to be the code for 'e'. We can download a large corpus of English text (e.g. a few books from Project Gutenberg), and estimate the individual letter frequencies. Using for example, a multinomial model where each letter is one of 26 possibiilites with frequencies given by the the previous estimates, and assuming that each letter is independent, we can simply go through all 26 possible values of $k$ and choose the model with the highest likelihood. Or just use $\\chi^2$ statistic to compare observed and expected frequencies.\n",
      "\n",
      "Here is an extended exercise to write a Caesar encoder and code to crack the cipher. \n",
      "\n",
      "**Writing the encoder/decoder**:\n",
      "    - Convert a sentence to lowercase\n",
      "    - Write a function let2int to convert a lowercase letter to a number from $0$ to $25$\n",
      "        - Hint: look up ord() function\n",
      "    - Write the reverse function int2let to convert a number to a lowercase letter\n",
      "        - Hint: look up chr() function\n",
      "    - Write a functiton to encode a sentence with shift $k$\n",
      "        - Hint: Use list comprehension with [ternary operator](https://docs.python.org/3.3/faq/programming.html#is-there-an-equivalent-of-c-s-ternary-operator) to check for a lowercase letter\n",
      "    - Write a function to decode a sentence with shift $k$\n",
      "        - Hint: Use the encode function\n",
      "    - Confirm that sentence = decode(encode(sentence))\n",
      "\n",
      "**More hints for encoding/decoding**:\n",
      "\n",
      "There are two slightly tricky aspects to encoding/decoding. First is that we want to convert any character into an integer in $[0, 26)$. Because letters are ordered ('b' comes after 'a'), this can be done by subtracting `ord('a')` for the lowercase letters. After adding $k$, we need to take the number modulo $26$ since the Caesar cipher \"wraps around\". Second is that this will only work for lowercase letters - so we need to pass along any characters that are not in 'a-z' unchanged.\n",
      "    \n",
      "**Writing the cracker**:\n",
      "    - Write a function to download a book from Project Gutenberg\n",
      "        - Hint: use\n",
      "        ```python\n",
      "        text = urllib2.urlopen('http://www.gutenberg.org/ebooks/1342.txt.utf-8').read()\n",
      "        ```\n",
      "    - Write a fucntion to estimate letter frequencies in text\n",
      "        - Hint: recall various ways to count letters in a string from Lecture 1\n",
      "    - Write a function to calculate the $\\chi^2$ statistic given observed and expected frequencies\n",
      "        - Hint: $\\chi^2 = \\sum_{i=1}{k} \\frac{(\\text{Observed} - \\text{Expected})^2}{\\text{Expected}}$\n",
      "    - Write a cracker to decode encrypted text by choosing the shift $k$ with the smallest $\\chi^2$ score\n",
      "            - Hint: xs.index(min(xs)) gives location of minimum value in the list xs."
     ]
    },
    {
     "cell_type": "raw",
     "metadata": {},
     "source": [
      "\n",
      "\n",
      "\n",
      "\n",
      "\n"
     ]
    },
    {
     "cell_type": "code",
     "collapsed": false,
     "input": [
      "import urllib2\n",
      "def getWebText(url):\n",
      "\n",
      "    book = urllib2.urlopen(url).read()\n",
      "    book=book.lower()\n",
      "    return book"
     ],
     "language": "python",
     "metadata": {},
     "outputs": [],
     "prompt_number": 238
    },
    {
     "cell_type": "markdown",
     "metadata": {},
     "source": []
    },
    {
     "cell_type": "code",
     "collapsed": false,
     "input": [
      "\n"
     ],
     "language": "python",
     "metadata": {},
     "outputs": [],
     "prompt_number": 238
    },
    {
     "cell_type": "code",
     "collapsed": false,
     "input": [],
     "language": "python",
     "metadata": {},
     "outputs": [],
     "prompt_number": 238
    },
    {
     "cell_type": "code",
     "collapsed": false,
     "input": [
      "\n",
      "def shift(letter,shift):\n",
      "    num=ord(letter)-ord('a') \n",
      "    shiftInteger = (num + shift)%26\n",
      "    outLetter=chr(shiftInteger + ord('a'))\n",
      "    return outLetter\n",
      "\n",
      "def encode(str,shiftVal):\n",
      "    str=str.lower()\n",
      "    listStr = list(str)\n",
      "   \n",
      "    for i in range(len(listStr)):\n",
      "        if 97<=ord(listStr[i])<=122:\n",
      "                  \n",
      "            listStr[i]=shift(listStr[i],shiftVal)\n",
      "        \n",
      "    outStr=''.join(listStr)   \n",
      "        \n",
      "       \n",
      "    return outStr     \n",
      "      \n",
      "\n",
      "    \n",
      "\n"
     ],
     "language": "python",
     "metadata": {},
     "outputs": [],
     "prompt_number": 239
    },
    {
     "cell_type": "code",
     "collapsed": false,
     "input": [
      "\n",
      "# original text to be encrypted taken from http://www.theonion.com/articles/tom-brady-joe-montana-sucks-and-i-am-better-than-h,37788/\n",
      "string = 'FOXBOROUGH, MA\u2014After surpassing Joe Montana last weekend to claim the all-time NFL record for most postseason touchdown passes, New England Patriots quarterback Tom Brady told reporters Friday that Montana \u201csucks total s***\u201d and that he himself is \u201cway, way better\u201d than the retired San Francisco 49ers legend. \u201cJoe Montana is terrible, and I\u2019m a much better quarterback than he ever was,\u201d said Brady, noting that it felt particularly good to break Montana\u2019s record and prove that he is far superior to \u201cthat talentless bum.\u201d \u201cAnd while we\u2019re on the subject: John Elway sucks; Roger Staubach sucks; Terry Bradshaw sucks; Troy Aikman sucks; Dan Marino sucks; Steve Young sucks; Bart Starr sucks; and Johnny Unitas sucks. They all suck compared to me. They\u2019re terrible quarterbacks, and I\u2019m a great quarterback\u2014the greatest quarterback who ever lived. Me. I\u2019m the best.\u201d Brady went on to say that although the Patriots are unquestionably the best football team of all time, it is only because of his own contributions, and that he would have been able to achieve just as much without any of his teammates or coaches.'\n",
      "book = getWebText('http://www.gutenberg.org/ebooks/1342.txt.utf-8')\n"
     ],
     "language": "python",
     "metadata": {},
     "outputs": [],
     "prompt_number": 240
    },
    {
     "cell_type": "code",
     "collapsed": false,
     "input": [
      "\n",
      "\n",
      "# This code iterates over 26 possible shift values. With each iteration, a vector of summands for the chi squared calculation is generated.\n",
      "# The only operations done in the loop are arithmetic, calls to ord and chr, and updates to tuples, lists and dicts. There will be residual error\n",
      "# in chi^2 when using this with real text because the size of the alphabet is hardcoded in some areas in this as 26. making this variable (say, over Arabic's 28+\n",
      "# observed letters or the full ASCII set) would require changing the function shift as well. Finally, a dict with the shift value as the key and \n",
      "# the chi squared value as the entry is searched for a min value which is the suggested shift used to decrypt.\n",
      "\n",
      "from collections import Counter\n",
      "\n",
      "def cracker(decryptedStr,encryptedStr,alphabetSize):\n",
      "\n",
      "    counterReference = Counter(decryptedStr)\n",
      "    counterEncryptedText = Counter(encryptedStr)\n",
      "\n",
      "    #We will need to iterate over the counter's data as well as add new elements to keep track of summands for the chi^2 calculation. \n",
      "    #This would be easier with tuples than a dict.\n",
      "    counterTextTuples = counterEncryptedText.items()\n",
      "\n",
      "    # To find total character counts, we convert the dict to a list of tuples and sum over the 2nd element, corresponding to the actual counts.\n",
      "    totalLettersRef = sum([pair[1] for pair in counterReference.items()])\n",
      "    totalLettersText = sum([pair[1] for pair in counterTextTuples])\n",
      "\n",
      "\n",
      "    # the .items() method converts dict to tuple. We then can use the letter from a tuple's first entry\n",
      "    # to act as key to a dictionary. shiftVal represents the number of times the encrypted string must be shifted.\n",
      "    chiSquared={}\n",
      "    for shiftVal in range(1,1+alphabetSize):\n",
      "        chiSummands=[]\n",
      "        \n",
      "  \n",
      "\n",
      "        for letter,count in counterTextTuples:\n",
      "    \n",
      "            letter = shift(letter,shiftVal)\n",
      "    \n",
      "            refCount = counterReference[letter]\n",
      "   \n",
      "            textFraction = float(count) / float(totalLettersText)\n",
      "    \n",
      "            refFraction = float(refCount) / float(totalLettersRef)\n",
      "        \n",
      "            chiSummands.append((textFraction-refFraction)/refFraction)\n",
      "         \n",
      "    \n",
      "        chiSquared[shiftVal]=( abs(sum(chiSummands)) )\n",
      "    \n",
      "\n",
      "    leastChi_idx = min(chiSquared, key=chiSquared.get)\n",
      "# the selected integer isnt the number of shifts we need to get the original,  but rather the number the text underwent during encrypt.\n",
      "    return 26-leastChi_idx\n",
      "\n",
      "def decode(decryptedStr,encryptedStr):\n",
      "    shifts = cracker(decryptedStr,encryptedStr,26)\n",
      "    return encode(encryptedStr,-shifts)"
     ],
     "language": "python",
     "metadata": {},
     "outputs": [],
     "prompt_number": 343
    },
    {
     "cell_type": "code",
     "collapsed": false,
     "input": [
      "print decode(book,encode(string2,9))"
     ],
     "language": "python",
     "metadata": {},
     "outputs": [
      {
       "output_type": "stream",
       "stream": "stdout",
       "text": [
        "foxborough, ma\u2014after surpassing joe montana last weekend to claim the all-time nfl record for most postseason touchdown passes, new england patriots quarterback tom brady told reporters friday that montana \u201csucks total s***\u201d and that he himself is \u201cway, way better\u201d than the retired san francisco 49ers legend. \u201cjoe montana is terrible, and i\u2019m a much better quarterback than he ever was,\u201d said brady, noting that it felt particularly good to break montana\u2019s record and prove that he is far superior to \u201cthat talentless bum.\u201d \u201cand while we\u2019re on the subject: john elway sucks; roger staubach sucks; terry bradshaw sucks; troy aikman sucks; dan marino sucks; steve young sucks; bart starr sucks; and johnny unitas sucks. they all suck compared to me. they\u2019re terrible quarterbacks, and i\u2019m a great quarterback\u2014the greatest quarterback who ever lived. me. i\u2019m the best.\u201d brady went on to say that although the patriots are unquestionably the best football team of all time, it is only because of his own contributions, and that he would have been able to achieve just as much without any of his teammates or coaches.\n"
       ]
      }
     ],
     "prompt_number": 344
    },
    {
     "cell_type": "code",
     "collapsed": false,
     "input": [],
     "language": "python",
     "metadata": {},
     "outputs": [
      {
       "output_type": "stream",
       "stream": "stdout",
       "text": [
        "14\n"
       ]
      }
     ],
     "prompt_number": 298
    },
    {
     "cell_type": "code",
     "collapsed": false,
     "input": [],
     "language": "python",
     "metadata": {},
     "outputs": [
      {
       "output_type": "stream",
       "stream": "stdout",
       "text": [
        "tclpcfciuv, ao\u2014othsf gifdoggwbu xcs acbhobo zogh kssysbr hc qzowa hvs ozz-hwas btz fsqcfr tcf acgh dcghgsogcb hciqvrckb doggsg, bsk sbuzobr dohfwchg eiofhsfpoqy hca pform hczr fsdcfhsfg tfwrom hvoh acbhobo \u201cgiqyg hchoz g***\u201d obr hvoh vs vwagszt wg \u201ckom, kom pshhsf\u201d hvob hvs fshwfsr gob tfobqwgqc 49sfg zsusbr. \u201cxcs acbhobo wg hsffwpzs, obr w\u2019a o aiqv pshhsf eiofhsfpoqy hvob vs sjsf kog,\u201d gowr pform, bchwbu hvoh wh tszh dofhwqizofzm uccr hc pfsoy acbhobo\u2019g fsqcfr obr dfcjs hvoh vs wg tof gidsfwcf hc \u201chvoh hozsbhzsgg pia.\u201d \u201cobr kvwzs ks\u2019fs cb hvs gipxsqh: xcvb szkom giqyg; fcusf ghoipoqv giqyg; hsffm pforgvok giqyg; hfcm owyaob giqyg; rob aofwbc giqyg; ghsjs mcibu giqyg; pofh ghoff giqyg; obr xcvbbm ibwhog giqyg. hvsm ozz giqy qcadofsr hc as. hvsm\u2019fs hsffwpzs eiofhsfpoqyg, obr w\u2019a o ufsoh eiofhsfpoqy\u2014hvs ufsohsgh eiofhsfpoqy kvc sjsf zwjsr. as. w\u2019a hvs psgh.\u201d pform ksbh cb hc gom hvoh ozhvciuv hvs dohfwchg ofs ibeisghwcbopzm hvs psgh tcchpozz hsoa ct ozz hwas, wh wg cbzm psqoigs ct vwg ckb qcbhfwpihwcbg, obr hvoh vs kcizr vojs pssb opzs hc oqvwsjs xigh og aiqv kwhvcih obm ct vwg hsoaaohsg cf qcoqvsg.\n"
       ]
      }
     ],
     "prompt_number": 342
    },
    {
     "cell_type": "code",
     "collapsed": false,
     "input": [],
     "language": "python",
     "metadata": {},
     "outputs": []
    },
    {
     "cell_type": "code",
     "collapsed": false,
     "input": [],
     "language": "python",
     "metadata": {},
     "outputs": []
    },
    {
     "cell_type": "code",
     "collapsed": false,
     "input": [],
     "language": "python",
     "metadata": {},
     "outputs": []
    },
    {
     "cell_type": "code",
     "collapsed": false,
     "input": [],
     "language": "python",
     "metadata": {},
     "outputs": []
    },
    {
     "cell_type": "code",
     "collapsed": false,
     "input": [],
     "language": "python",
     "metadata": {},
     "outputs": []
    },
    {
     "cell_type": "code",
     "collapsed": false,
     "input": [],
     "language": "python",
     "metadata": {},
     "outputs": []
    },
    {
     "cell_type": "code",
     "collapsed": false,
     "input": [],
     "language": "python",
     "metadata": {},
     "outputs": [],
     "prompt_number": 313
    },
    {
     "cell_type": "code",
     "collapsed": false,
     "input": [],
     "language": "python",
     "metadata": {},
     "outputs": [
      {
       "output_type": "stream",
       "stream": "stdout",
       "text": [
        "[('\\x80', 18), ('\\x94', 2), ('\\x99', 6), ('\\x9d', 5), ('\\x9c', 5), (' ', 182), ('-', 1), (',', 9), ('.', 8), ('4', 1), ('9', 1), (';', 7), (':', 1), ('a', 18), ('c', 95), ('\\xe2', 18), ('e', 32), ('d', 27), ('g', 92), ('f', 26), ('i', 11), ('h', 13), ('k', 38), ('j', 42), ('m', 18), ('l', 6), ('o', 25), ('n', 31), ('q', 60), ('p', 50), ('s', 6), ('r', 10), ('u', 68), ('t', 64), ('w', 35), ('v', 96), ('y', 15), ('x', 7), ('z', 1)]\n",
        "24\n"
       ]
      }
     ],
     "prompt_number": 323
    },
    {
     "cell_type": "code",
     "collapsed": false,
     "input": [
      "\n"
     ],
     "language": "python",
     "metadata": {},
     "outputs": [],
     "prompt_number": 361
    },
    {
     "cell_type": "code",
     "collapsed": false,
     "input": [],
     "language": "python",
     "metadata": {},
     "outputs": [],
     "prompt_number": 361
    },
    {
     "cell_type": "code",
     "collapsed": false,
     "input": [],
     "language": "python",
     "metadata": {},
     "outputs": [],
     "prompt_number": 361
    },
    {
     "cell_type": "code",
     "collapsed": false,
     "input": [],
     "language": "python",
     "metadata": {},
     "outputs": [],
     "prompt_number": 361
    },
    {
     "cell_type": "code",
     "collapsed": false,
     "input": [],
     "language": "python",
     "metadata": {},
     "outputs": [],
     "prompt_number": 361
    }
   ],
   "metadata": {}
  }
 ]
}