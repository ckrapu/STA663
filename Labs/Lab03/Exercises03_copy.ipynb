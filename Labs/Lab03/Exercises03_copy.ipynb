{
 "metadata": {
  "name": "",
  "signature": "sha256:6172e34111b8e57cedbe907b03c01afa916b8eec2d24a0a3aebf3496644f5994"
 },
 "nbformat": 3,
 "nbformat_minor": 0,
 "worksheets": [
  {
   "cells": [
    {
     "cell_type": "code",
     "collapsed": false,
     "input": [
      "import os\n",
      "import sys\n",
      "import glob\n",
      "import math as m\n",
      "import matplotlib.pyplot as plt\n",
      "import numpy as np\n",
      "import pandas as pd\n",
      "import sympy as sp\n",
      "import scipy.optimize as sc\n",
      "%matplotlib inline\n",
      "plt.style.use('ggplot')\n"
     ],
     "language": "python",
     "metadata": {},
     "outputs": [],
     "prompt_number": 109
    },
    {
     "cell_type": "markdown",
     "metadata": {},
     "source": [
      "**Exercise 1 (10 pts)**. Avoding catastrophic cancellation.\n",
      "\n",
      "The tail of the standard logistic distributon is given by $1 - F(t) = 1 - (1+e^{-1})^{-1}$.\n",
      "\n",
      "- Define a function `f1` to calculate the tail probability of the logistic distribution using the formula given above\n",
      "- Use `sympy` to find the exact value of the tail distribution (using the same symbolic formula) to 20 decimal digits\n",
      "- Calculate the *relative error* of `f1` when $t = 25$ (The relative error is given by `abs(exact - approximate)/exact`)\n",
      "- Rewrite the expression for the tail of the logistic distribution using simple algebra so that there is no risk of cancellation, and write a function `f2` using this formula. Calculate the *relative error* of `f2` when $t = 25$. \n",
      "- How much more accurate is `f2` compared with `f1` in terms of the relative error?"
     ]
    },
    {
     "cell_type": "code",
     "collapsed": false,
     "input": [
      "def f1(t):\n",
      "    tail = 1.0-(1.0 + np.exp(-t))**-1.0\n",
      "    return tail\n",
      "\n",
      "def f2(t):\n",
      "    tail = -1/(1-np.exp(t))\n",
      "    return tail\n",
      "\n",
      "\n",
      "t = sp.symbols('t')\n",
      "sym_tail = 1.0 - (1.0 + sp.exp(-t))**-1.0\n",
      "\n",
      "val_f1 = f1(25)\n",
      "val_sym = sp.N(sym_tail.subs(t,25),20)\n",
      "relative_error1 = (val_f1-val_sym)/val_sym\n",
      "\n",
      "val_f2 = f2(25)\n",
      "relative_error2 = (val_f2-val_sym)/val_sym\n",
      "\n",
      "\n",
      "\n",
      "print 'The value given by the function f1 when t=25 is: ',val_f1\n",
      "print 'The exact value when t=25 is: ', val_sym\n",
      "print 'The relative error for f1 is: ',relative_error1\n",
      "print 'The value given by f2(25) is: ',val_f2\n",
      "print 'The relative error for f2 is: ',relative_error2,'\\n\\n'\n",
      "print 'Function f1 has an error which is',relative_error1/relative_error2,'times greater than the error for f2.'\n"
     ],
     "language": "python",
     "metadata": {},
     "outputs": [
      {
       "output_type": "stream",
       "stream": "stdout",
       "text": [
        "The value given by the function f1 when t=25 is:  1.38880018596e-11\n",
        "The exact value when t=25 is:  1.3887943864771145610e-11\n",
        "The relative error for f1 is:  4.1759147665982646285e-6\n",
        "The value given by f2(25) is:  1.38879438652e-11\n",
        "The relative error for f2 is:  2.7775812535751260033e-11 \n",
        "\n",
        "\n",
        "Function f1 has an error which is 150343.56821148949746 times greater than the error for f2.\n"
       ]
      }
     ],
     "prompt_number": 9
    },
    {
     "cell_type": "markdown",
     "metadata": {},
     "source": [
      "**Exercise 2 (10 pts)**. Ill-conditioned linear problems.\n",
      "\n",
      "You are given a $n \\times p$ design matrix $X$ and a $p$-vector of observations $y$ and asked to find the coefficients $\\beta$ that solve the linear equations $X \\beta = y$. \n",
      "```python\n",
      "X = np.load('x.npy')\n",
      "y = np.load('y.npy')\n",
      "```\n",
      "\n",
      "The solution $\\beta$ can also be loaded as\n",
      "```python\n",
      "beta = np.load('b.npy')\n",
      "```\n",
      "\n",
      "- Write a formula that could solve the system of linear equations in terms of $X$ and $y$ Write a function `f1` that takes arguments $X$ and $y$ and returns $\\beta$ using this formula.\n",
      "- How could you code this formula using `np.linalg.solve` that does not require inverting a matrix? Write a function `f2` that takes arguments $X$ and $y$ and returns $\\beta$ using this.\n",
      "- Note that carefully designed algorithms *can* solve this ill-conditioned problem, which is why you should always use library functions for linear algebra rather than write your own.\n",
      "```python\n",
      "np.linalg.lstsq(x, y)[0]\n",
      "```\n",
      "- What happens if you try to solve for $\\beta$ using `f1` or `f2`? Remove the column of $X$ that is making the matrix singluar and find the $p-1$ vector $b$ using `f2`.\n",
      "- Note that the solution differs from that given by `np.linalg.lstsq`? This arises because the relevant condition number for `f2` is actually for the matrix $X^TX$ while the condition number of `lstsq` is for the matrix $X$. Why is the condition so high even after removing the column that makes the matrix singular?"
     ]
    },
    {
     "cell_type": "code",
     "collapsed": false,
     "input": [
      "X = np.load('x.npy')\n",
      "y = np.load('y.npy')\n",
      "beta=np.load('b.npy')\n",
      "X_pinv = np.linalg.pinv(X)\n",
      "\n",
      "\n"
     ],
     "language": "python",
     "metadata": {},
     "outputs": [
      {
       "output_type": "stream",
       "stream": "stdout",
       "text": [
        "[[  5.00000000e+00   4.81600000e+14   9.00000000e+00   5.00000000e+00\n",
        "    0.00000000e+00   5.00000000e+01]\n",
        " [  1.00000000e+00   4.21400000e+14   6.00000000e+00   9.00000000e+00\n",
        "    2.00000000e+00   9.00000000e+01]\n",
        " [  5.00000000e+00   1.20400000e+14   4.00000000e+00   2.00000000e+00\n",
        "    4.00000000e+00   2.00000000e+01]\n",
        " [  7.00000000e+00   5.41800000e+14   1.00000000e+00   7.00000000e+00\n",
        "    0.00000000e+00   7.00000000e+01]\n",
        " [  9.00000000e+00   5.41800000e+14   7.00000000e+00   6.00000000e+00\n",
        "    9.00000000e+00   6.00000000e+01]\n",
        " [  0.00000000e+00   6.02000000e+13   8.00000000e+00   8.00000000e+00\n",
        "    3.00000000e+00   8.00000000e+01]\n",
        " [  8.00000000e+00   4.21400000e+14   3.00000000e+00   6.00000000e+00\n",
        "    5.00000000e+00   6.00000000e+01]\n",
        " [  9.00000000e+00   1.80600000e+14   4.00000000e+00   8.00000000e+00\n",
        "    1.00000000e+00   8.00000000e+01]\n",
        " [  0.00000000e+00   1.80600000e+14   9.00000000e+00   2.00000000e+00\n",
        "    0.00000000e+00   2.00000000e+01]\n",
        " [  9.00000000e+00   1.20400000e+14   7.00000000e+00   7.00000000e+00\n",
        "    9.00000000e+00   7.00000000e+01]]\n",
        "[[  2.60453213e-02  -6.66428305e-02   2.46876517e-02   1.04013576e-02\n",
        "   -1.59979455e-02  -4.02156013e-02   4.05867686e-03   7.16013217e-02\n",
        "    3.35747545e-03   2.30298512e-02]\n",
        " [  3.65168428e-16   5.49234737e-16  -1.64814073e-16   5.92579494e-16\n",
        "    7.81049565e-16  -5.49764846e-16   3.86934779e-16  -1.00874358e-15\n",
        "    5.95594353e-17  -7.49477227e-16]\n",
        " [  4.90234320e-02  -2.34481418e-02   1.95626801e-02  -3.47106451e-02\n",
        "   -4.36114782e-03   1.05705922e-02  -2.24931176e-02   6.75470795e-03\n",
        "    6.42961775e-02   9.09944415e-03]\n",
        " [ -4.02940435e-04   5.67642507e-04  -2.63323506e-04   2.36262936e-04\n",
        "   -3.55637836e-04   6.09894714e-04   1.73286258e-05   3.71190737e-04\n",
        "   -3.92812793e-04   9.23590587e-05]\n",
        " [ -5.04357735e-02   2.32150622e-02   6.69758119e-03  -2.88314081e-02\n",
        "    6.14425854e-02   1.39238944e-02   2.00605554e-02  -6.84867223e-02\n",
        "   -2.71718770e-02   3.33565049e-02]\n",
        " [ -4.02940435e-03   5.67642507e-03  -2.63323506e-03   2.36262936e-03\n",
        "   -3.55637836e-03   6.09894714e-03   1.73286258e-04   3.71190737e-03\n",
        "   -3.92812793e-03   9.23590587e-04]]\n"
       ]
      }
     ],
     "prompt_number": 18
    },
    {
     "cell_type": "markdown",
     "metadata": {},
     "source": [
      "**Exercise 3 (10 pts)**. Importance of using efficient algorihtms.\n",
      "\n",
      "- Implement bubble sort\n",
      "- Calculate its big $\\mathcal{O}$ algorithmic complexity\n",
      "- Time the performance of bubble sort on random uniform deviate vectors of sizes `range(100, 2000, 100)` using `time.time()` from the standard library\n",
      "- Use `scipy.optimize.curve_fit` to fit an appropriate function to the collection of (size, execution time) data points. Extrapolate how long it would take to sort a random vector of size 1,000,000. Now time how long it takes for the system sort to sort a random vector of size 1,000,000.\n",
      "- Plot the fits together with the data points uisng `matplotlib.pyplot` functions."
     ]
    },
    {
     "cell_type": "code",
     "collapsed": false,
     "input": [
      "import time as t\n",
      "\n",
      "\n",
      "# used for curvefitting the time data\n",
      "def testfunc(x,a,b,c):\n",
      "    return a*x**2+b*x+c\n",
      "\n",
      "# takes in a single list of unsorted data and sorts it in place.\n",
      "def bubblesort(in_ary):\n",
      "     n = len(in_ary)\n",
      "     for i in range(1,n):\n",
      "        for j in range(1,n):\n",
      "            if in_ary[j]<in_ary[j-1]:\n",
      "                in_ary[j],in_ary[j-1] =   in_ary[j-1],in_ary[j]\n",
      "     out_ary = in_ary\n",
      "     return out_ary\n",
      "            \n",
      "            \n",
      "\n",
      "unsortedList = np.random.rand(10)\n",
      "copy = list(unsortedList)\n",
      "sortedList = bubblesort(unsortedList)\n",
      "print 'Unsorted list:',copy,'\\nSorted list:',sortedList\n",
      "\n",
      "            \n",
      "\n",
      "# list of numbers each representing the size of a list of random numbers in aryList\n",
      "sizes = range(100,2000,100)\n",
      "\n",
      "# list of lists which contains 100 random numbers in aryList[0], 200 in aryList[1] and so on\n",
      "aryList = [];\n",
      "\n",
      "\n",
      "for i in sizes:\n",
      "    ary=np.random.rand(i)\n",
      "    aryList.append(ary)\n",
      "   \n",
      "    \n",
      "\n",
      "            \n",
      "            \n",
      "timings=[];\n",
      "for k,vec in enumerate(aryList):\n",
      "    length = len(vec)\n",
      "    t1=t.time()\n",
      "    sortedVec = bubblesort(vec)\n",
      "    t2 = t.time()\n",
      "    timeDif = t2-t1\n",
      "    timings.append(timeDif)\n",
      "    #print 'time to execute bubblesort over',length,'elements:',timeDif,'seconds'\n",
      "    \n",
      "\n",
      "\n",
      "fitted_timings = [];\n",
      "coefficients,cov_mat=sc.curve_fit(testfunc,sizes,timings)\n",
      "for i,size in enumerate(sizes):\n",
      "    fitted_timings.append(testfunc(size,coefficients[0],coefficients[1],coefficients[2]))\n",
      "    \n",
      "\n",
      "\n",
      "\n",
      "extrapolated_time = testfunc(1000000,coefficients[0],coefficients[1],coefficients[2])\n",
      "\n",
      "\n",
      "\n",
      "# the log of the multiplicative factor for time increase in a base equal to the multiplicative factor for size increase gives the complexity\n",
      "size_gain = len(aryList[9])/len(aryList[0])\n",
      "time_gain = timings[9]/timings[0]\n",
      "complexity = m.log(time_gain,size_gain)\n",
      "\n",
      "\n",
      "\n",
      "\n",
      "\n",
      "millionVec = np.random.rand(1000000)\n",
      "\n",
      "\n",
      "# this uses the system in-place sort\n",
      "t3 = t.time()\n",
      "millionVec.sort()\n",
      "t4=  t.time()\n",
      "sysTimeDif =t4-t3 \n",
      "\n",
      "print 'The extrapolated time for bubblesort on one million elements was',extrapolated_time,'seconds while the time for the system sort was',sysTimeDif,'seconds.'\n",
      "print 'The observed complexity of bubblesort is O(n^',complexity,').'\n",
      "\n",
      "plt.plot(sizes,timings,'o',sizes,fitted_timings)\n"
     ],
     "language": "python",
     "metadata": {},
     "outputs": [
      {
       "output_type": "stream",
       "stream": "stdout",
       "text": [
        "Unsorted list: [0.701003917591698, 0.045929339276338577, 0.12588129986895868, 0.52047747501836095, 0.14169325302113667, 0.6323725214596797, 0.83946124912958853, 0.14117316303466587, 0.90661410625762362, 0.85541164058481856] \n",
        "Sorted list: [ 0.04592934  0.1258813   0.14117316  0.14169325  0.52047748  0.63237252\n",
        "  0.70100392  0.83946125  0.85541164  0.90661411]\n",
        "The extrapolated time for bubblesort on one million elements was"
       ]
      },
      {
       "output_type": "stream",
       "stream": "stdout",
       "text": [
        " 342923.911849 seconds while the time for the system sort was 0.0814218521118 seconds.\n",
        "The observed complexity of bubblesort is O(n^ 1.95170133976 ).\n"
       ]
      },
      {
       "metadata": {},
       "output_type": "pyout",
       "prompt_number": 122,
       "text": [
        "[<matplotlib.lines.Line2D at 0x7fa778d940d0>,\n",
        " <matplotlib.lines.Line2D at 0x7fa778d94310>]"
       ]
      },
      {
       "metadata": {},
       "output_type": "display_data",
       "png": "[encoded data removed]",
       "text": [
        "<matplotlib.figure.Figure at 0x7fa778e70a90>"
       ]
      }
     ],
     "prompt_number": 122
    },
    {
     "cell_type": "markdown",
     "metadata": {},
     "source": [
      "**Exercise 4 (20 pts)**. One of the goals of the course it that you will be able to implement novel algorihtms from the literature. \n",
      "\n",
      "- Implement the mean-shift algorithm in 1D as described [here](http://homepages.inf.ed.ac.uk/rbf/CVonline/LOCAL_COPIES/TUZEL1/MeanShift.pdf). \n",
      "    - Use the following function signature\n",
      "    ```python\n",
      "    def mean_shift(xs, x, kernel, max_iters=100, tol=1e-6):\n",
      "    ```\n",
      "    - xs is the data set, x is the starting location, and kernel is a kernel function\n",
      "    - tol is the difference in $||x||$ across iterations\n",
      "- Use the following kernels with bandwidth $h$ (a default value of 1.0 will work fine)\n",
      "    - Flat - return 1 if $||x|| < h$ and 0 otherwise\n",
      "    - Gaussian \n",
      "    $$\\frac{1}{\\sqrt{2 \\pi h}}e^{\\frac{-||x||^2}{h^2}}$$\n",
      "    - Note that $||x||$ is the norm of the data point being evaluated minus the current value of $x$\n",
      "- Use both kernels to find all 3 modes of the data set in `x1d.npy`\n",
      "- Modify the algorithm and/or kernels so that it now works in an arbitrary number of dimensions.\n",
      "- Use both kernels to find all 3 modes of the data set in `x2d.npy`\n",
      "- Plot the path of successive intermediate solutions of the mean-shift algorithm starting from `x0 = (-4, 10)` until it converges onto a mode in the 2D data for each kernel. Superimpose the path on top of a contour plot of the data density."
     ]
    },
    {
     "cell_type": "code",
     "collapsed": false,
     "input": [
      "# Your code here\n",
      "\n",
      "print range(0,10)\n",
      "\n",
      "sc.curve_fit\n"
     ],
     "language": "python",
     "metadata": {},
     "outputs": [
      {
       "output_type": "stream",
       "stream": "stdout",
       "text": [
        "[0, 1, 2, 3, 4, 5, 6, 7, 8, 9]\n"
       ]
      },
      {
       "metadata": {},
       "output_type": "pyout",
       "prompt_number": 98,
       "text": [
        "<function scipy.optimize.minpack.curve_fit>"
       ]
      }
     ],
     "prompt_number": 98
    },
    {
     "cell_type": "code",
     "collapsed": false,
     "input": [
      "complexity = m.log(time_gain,size_gain)\n",
      "print 'The observed complexity of bubblesort is O(n^',complexity,').'"
     ],
     "language": "python",
     "metadata": {},
     "outputs": [
      {
       "output_type": "stream",
       "stream": "stdout",
       "text": [
        "The observed complexity of bubblesort is O(n^ 1.95492107286 ).\n"
       ]
      }
     ],
     "prompt_number": 112
    },
    {
     "cell_type": "code",
     "collapsed": false,
     "input": [
      "print plt.plot(sizes,timings,'o',sizes,fitted_timings)"
     ],
     "language": "python",
     "metadata": {},
     "outputs": [
      {
       "output_type": "stream",
       "stream": "stdout",
       "text": [
        "[<matplotlib.lines.Line2D object at 0x7fa782cc4ed0>, <matplotlib.lines.Line2D object at 0x7fa7791538d0>]\n"
       ]
      },
      {
       "metadata": {},
       "output_type": "display_data",
       "png": "[encoded data removed]",
       "text": [
        "<matplotlib.figure.Figure at 0x7fa77916bed0>"
       ]
      }
     ],
     "prompt_number": 117
    }
   ],
   "metadata": {}
  }
 ]
}