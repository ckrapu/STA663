{
 "metadata": {
  "name": "",
  "signature": "sha256:a7e883b6297881f9b93bea44e8b36bd3e39306b608d71e96ce5e65291d0e37d3"
 },
 "nbformat": 3,
 "nbformat_minor": 0,
 "worksheets": [
  {
   "cells": [
    {
     "cell_type": "code",
     "collapsed": false,
     "input": [
      "import numpy as np\n",
      "import scipy as sc\n",
      "import statsmodels.api as stats\n",
      "from __future__ import division\n",
      "import string\n",
      "import nltk\n",
      "import sklearn\n",
      "import sys\n",
      "import copy\n",
      "# assume format is documents delimited by line \n",
      "f = open(\"bacon2.txt\")\n",
      "text = f.read()\n",
      "text = text.translate(string.maketrans(\"\",\"\"), string.punctuation)\n",
      "text = text.lower()\n",
      "split_text = text.split(\"\\r\\n\")\n",
      "split_text = filter(None,split_text)\n",
      "\n",
      "docs=[]\n",
      "for paragraph in split_text:\n",
      "    doc = paragraph.split(\" \")\n",
      "    docs.append(doc)\n",
      "\n",
      "\n",
      "uniqueWords=[]\n",
      "wordCounts=[]\n",
      "\n",
      "\n",
      "for doc in docs:\n",
      "    \n",
      "    for word in doc:\n",
      "       \n",
      "        if word in uniqueWords:\n",
      "            for v,term in enumerate(uniqueWords):\n",
      "                if term==word:\n",
      "                    wordCounts[v]+=1\n",
      "                \n",
      "        else:\n",
      "            uniqueWords.append(word)\n",
      "            wordCounts.append(1)\n",
      "print uniqueWords\n",
      "V=len(uniqueWords) \n",
      "dictionary = dict(zip(uniqueWords,range(0,V)))\n",
      "\n",
      "integer_docs=[]\n",
      "\n",
      "for doc in docs:\n",
      "    integer_doc=[]\n",
      "    for word in doc:\n",
      "        integer_doc.append(dictionary[word])\n",
      "        \n",
      "    integer_docs.append(integer_doc)\n",
      " \n",
      "print integer_docs\n",
      "\n",
      "corpus = integer_docs\n",
      "\n",
      "\n",
      "print N,M,K\n",
      "print dictionary\n",
      "print corpus"
     ],
     "language": "python",
     "metadata": {},
     "outputs": [
      {
       "output_type": "stream",
       "stream": "stdout",
       "text": [
        "['bacon', 'pork', 'ham', 'celery', 'potato', 'yucca', 'tomato', 'root']\n",
        "[[0, 1, 2, 0, 3], [3, 4, 5, 6, 7, 3], [1, 2, 0], [2, 0, 3, 4], [5, 6, 6, 6, 4, 3], [0, 2, 1], [2, 2, 1, 1]]\n",
        "8 7 2\n",
        "{'tomato': 6, 'pork': 1, 'ham': 2, 'potato': 4, 'root': 7, 'bacon': 0, 'celery': 3, 'yucca': 5}\n",
        "[[0, 1, 2, 0, 3], [3, 4, 5, 6, 7, 3], [1, 2, 0], [2, 0, 3, 4], [5, 6, 6, 6, 4, 3], [0, 2, 1], [2, 2, 1, 1]]\n"
       ]
      }
     ],
     "prompt_number": 347
    },
    {
     "cell_type": "code",
     "collapsed": false,
     "input": [],
     "language": "python",
     "metadata": {},
     "outputs": [
      {
       "output_type": "stream",
       "stream": "stdout",
       "text": [
        "[[0, 1, 2, 0, 3], [3, 4, 5, 6, 7], [7, 1, 2, 0]]\n"
       ]
      }
     ],
     "prompt_number": 315
    },
    {
     "cell_type": "code",
     "collapsed": false,
     "input": [
      "N=len(uniqueWords) # vocabulary length\n",
      "M=len(corpus)  # number of documents\n",
      "K=2 # maximum number of topics\n",
      "\n",
      "# initialize LDA parameters\n",
      "alpha=0.2\n",
      "beta=0.1\n",
      "NWZ = np.zeros([V,K])\n",
      "NZM = np.zeros([K,M])\n",
      "NZ = np.zeros([K])\n",
      "\n",
      "# initalize nCRP prior parameters\n",
      "c_ml = np.random.randint(0,high=K,size=[M,K])\n",
      "\n",
      "\n",
      "# this copy is done just so that we have a list of lists which is the right size to hold the assignment z\n",
      "z = copy.deepcopy(corpus)\n",
      "\n",
      "\n",
      "for m,document in enumerate(corpus):\n",
      "    \n",
      "    for n,word in enumerate(document):\n",
      "        \n",
      "        z_out = np.random.multinomial(1,np.repeat(1.0/K,K)).dot(np.arange(0,K))\n",
      "        NZM[z_out,m]+=1\n",
      "        NWZ[word,z_out]+=1\n",
      "        NZ[z_out]+=1\n",
      "        \n",
      "        # using list of lists so we have to use list access notation instead of slice\n",
      "        z[m][n] = z_out\n",
      "        \n",
      "# sample\n",
      "iters=1000\n",
      "# vector of probabilities; each entry indicates the probability that the new label assignment will be k\n",
      "p_z= np.zeros([K,])\n",
      "for iteration in range(0,iters):\n",
      "           \n",
      "    for m,document in enumerate(corpus):\n",
      "        \n",
      "        for n,word in enumerate(document):\n",
      "            NWZ[word,z[m][n]]-=1\n",
      "            NZ[z[m][n]]-=1\n",
      "            NZM[z[m][n],m]-=1\n",
      "            \n",
      "            assert NWZ[word,z[m][n]]>=0\n",
      "            assert NZ[z[m][n]]>=0\n",
      "            assert NZM[z[m][n],m]>=0\n",
      "            \n",
      "            for i in range(0,K):\n",
      "                p_z[i] = (max(NWZ[word,i],0)+beta)/(NWZ[:,i].sum()+V*beta)*(max(NZM[i,m],0)+alpha)\n",
      "                assert p_z[i]>0\n",
      "                \n",
      "            \n",
      "            z_new = np.random.multinomial(1,p_z/p_z.sum()).dot(range(0,K)) \n",
      "            z[m][n]=z_new\n",
      "            \n",
      "            NWZ[word,z_new]+=1\n",
      "            NZ[z_new]+=1\n",
      "            NZM[z_new,m]+=1\n",
      "            \n",
      "print z"
     ],
     "language": "python",
     "metadata": {},
     "outputs": [
      {
       "output_type": "stream",
       "stream": "stdout",
       "text": [
        "[[1, 1, 1, 1, 0], [0, 0, 0, 0, 0, 0], [1, 1, 1], [1, 1, 0, 0], [0, 0, 0, 0, 0, 0], [1, 1, 1], [1, 1, 1, 1]]\n"
       ]
      }
     ],
     "prompt_number": 349
    },
    {
     "cell_type": "code",
     "collapsed": false,
     "input": [
      "K=2\n",
      "range(0,K)"
     ],
     "language": "python",
     "metadata": {},
     "outputs": [
      {
       "metadata": {},
       "output_type": "pyout",
       "prompt_number": 337,
       "text": [
        "[0, 1]"
       ]
      }
     ],
     "prompt_number": 337
    },
    {
     "cell_type": "code",
     "collapsed": false,
     "input": [
      "# compressed sparse row format\n",
      "\n",
      "count_vect = sklearn.feature_extraction.text.CountVectorizer(input = 'content')\n",
      "w_mn = count_vect.fit_transform(docs).todense()\n",
      "feature_words= count_vect.get_feature_names()\n",
      "(M,N)= w_mn.shape\n",
      "\n",
      "\n",
      "L = 2.0 # Our guess as to the number of topics\n",
      "alpha_1 = 0.2\n",
      "alpha = np.ones([1,L])*alpha_1  # Hyperparameter on Dirichlet distribution. Typically, all entries will have same value and sum to less than 1 for spare dists.\n",
      "alpha = np.reshape(alpha,L)\n",
      "beta = 0.1\n",
      "\n",
      "counts_ml = np.zeros([M,L])\n",
      "# Generate random matrix of topic assignments:\n",
      "for i,row in enumerate(c_ml):\n",
      "    counts_ml[i] = np.random.dirichlet(alpha)\n",
      "\n",
      "z_mn=np.random.randint(0,high=L,size=[M,N])\n",
      "#print w_mn\n",
      "#print z_mn\n",
      "#counts_nl counts the number of times a word indexed by n is assigned to topic indexed by l\n",
      "counts_nl = np.zeros([N,L])\n",
      "\n",
      "# c_ml counts the number of times topic indexed by l is assigned to any word in a selected document indexed by m\n",
      "counts_ml = np.zeros([M,L])\n",
      "\n",
      "for l in np.arange(0,L):\n",
      "    z_bool = z_mn==l\n",
      "    counts_nl[:,l]=np.sum(np.multiply(w_mn,z_bool),axis=0)\n",
      "    counts_ml[:,l]=np.sum(np.multiply(w_mn,z_bool),axis=1).reshape([M,])\n",
      "z_mn_new = np.zeros([M,N])\n",
      "print counts_ml\n",
      "# iterate over every word in every document\n",
      "for m in np.arange(0,M):\n",
      "    \n",
      "    for n in np.arange(0,N):\n",
      "        \n",
      "        p_l = np.zeros([L])\n",
      "        for l in np.arange(0,L):\n",
      "            p_l[l] = (max(counts_nl[n,l]-1.0,0)+beta)/(max(counts_nl[:,l].sum()-1.0,0)+N*beta)*(max(counts_ml[m,l]-1,0)+alpha[l])/(max(counts_ml[m,:].sum(),0)+L*alpha[l])\n",
      "            \n",
      "            z_mn_new[m,n]=np.random.multinomial(1,p_l/np.sum(p_l)).dot(np.arange(0,L))\n",
      "print z_mn        \n",
      "print z_mn_new     \n",
      "#np.savetxt('z_mn_new', z_mn_new, fmt='%.2e') \n"
     ],
     "language": "python",
     "metadata": {},
     "outputs": [
      {
       "output_type": "stream",
       "stream": "stdout",
       "text": [
        "[[ 2.  3.]\n",
        " [ 3.  2.]\n",
        " [ 2.  2.]]\n",
        "[[1 0 1 0 0 0 0 0]\n",
        " [0 1 1 1 0 1 0 0]\n",
        " [0 0 1 0 0 1 1 0]]\n",
        "[[ 1.  1.  1.  1.  0.  1.  1.  1.]\n",
        " [ 1.  1.  1.  0.  1.  1.  0.  0.]\n",
        " [ 1.  1.  1.  0.  1.  1.  0.  1.]]\n"
       ]
      }
     ],
     "prompt_number": 134
    },
    {
     "cell_type": "code",
     "collapsed": false,
     "input": [
      "\n",
      "print CRP(10.0,0.25)\n"
     ],
     "language": "python",
     "metadata": {},
     "outputs": [
      {
       "output_type": "stream",
       "stream": "stdout",
       "text": [
        "0\n",
        "[ 0.  0.]\n",
        "1\n",
        "[ 0.  0.]\n",
        "2\n",
        "[ 0.  0.]\n"
       ]
      },
      {
       "ename": "IndexError",
       "evalue": "index 2 is out of bounds for axis 0 with size 2",
       "output_type": "pyerr",
       "traceback": [
        "\u001b[1;31m---------------------------------------------------------------------------\u001b[0m\n\u001b[1;31mIndexError\u001b[0m                                Traceback (most recent call last)",
        "\u001b[1;32m<ipython-input-91-1c98a8fbb821>\u001b[0m in \u001b[0;36m<module>\u001b[1;34m()\u001b[0m\n\u001b[0;32m      1\u001b[0m \u001b[1;33m\u001b[0m\u001b[0m\n\u001b[1;32m----> 2\u001b[1;33m \u001b[1;32mprint\u001b[0m \u001b[0mCRP\u001b[0m\u001b[1;33m(\u001b[0m\u001b[1;36m10.0\u001b[0m\u001b[1;33m,\u001b[0m\u001b[1;36m0.25\u001b[0m\u001b[1;33m)\u001b[0m\u001b[1;33m\u001b[0m\u001b[0m\n\u001b[0m",
        "\u001b[1;32m<ipython-input-90-9e5b5a864f60>\u001b[0m in \u001b[0;36mCRP\u001b[1;34m(n, gamma)\u001b[0m\n\u001b[0;32m     16\u001b[0m                 \u001b[1;32mprint\u001b[0m \u001b[0mi\u001b[0m\u001b[1;33m\u001b[0m\u001b[0m\n\u001b[0;32m     17\u001b[0m                 \u001b[1;32mprint\u001b[0m \u001b[0mm_i\u001b[0m\u001b[1;33m\u001b[0m\u001b[0m\n\u001b[1;32m---> 18\u001b[1;33m                 \u001b[0mm_i\u001b[0m\u001b[1;33m[\u001b[0m\u001b[0mi\u001b[0m\u001b[1;33m]\u001b[0m\u001b[1;33m=\u001b[0m\u001b[0msum\u001b[0m\u001b[1;33m(\u001b[0m\u001b[0mi\u001b[0m\u001b[1;33m==\u001b[0m\u001b[0mlabels\u001b[0m\u001b[1;33m)\u001b[0m\u001b[1;33m\u001b[0m\u001b[0m\n\u001b[0m\u001b[0;32m     19\u001b[0m             \u001b[0mp\u001b[0m\u001b[1;33m=\u001b[0m\u001b[0mm_i\u001b[0m\u001b[1;33m/\u001b[0m\u001b[0msum\u001b[0m\u001b[1;33m(\u001b[0m\u001b[0mm_i\u001b[0m\u001b[1;33m)\u001b[0m\u001b[1;33m\u001b[0m\u001b[0m\n\u001b[0;32m     20\u001b[0m             \u001b[0mnp\u001b[0m\u001b[1;33m.\u001b[0m\u001b[0mappend\u001b[0m\u001b[1;33m(\u001b[0m\u001b[0mlabels\u001b[0m\u001b[1;33m,\u001b[0m\u001b[0mnp\u001b[0m\u001b[1;33m.\u001b[0m\u001b[0mrandom\u001b[0m\u001b[1;33m.\u001b[0m\u001b[0mmultinomial\u001b[0m\u001b[1;33m(\u001b[0m\u001b[1;36m1\u001b[0m\u001b[1;33m,\u001b[0m\u001b[0mp\u001b[0m\u001b[1;33m)\u001b[0m\u001b[1;33m.\u001b[0m\u001b[0mdot\u001b[0m\u001b[1;33m(\u001b[0m\u001b[0mnp\u001b[0m\u001b[1;33m.\u001b[0m\u001b[0marange\u001b[0m\u001b[1;33m(\u001b[0m\u001b[1;36m1\u001b[0m\u001b[1;33m,\u001b[0m\u001b[0munoccupied_table\u001b[0m\u001b[1;33m)\u001b[0m\u001b[1;33m)\u001b[0m\u001b[1;33m)\u001b[0m\u001b[1;33m\u001b[0m\u001b[0m\n",
        "\u001b[1;31mIndexError\u001b[0m: index 2 is out of bounds for axis 0 with size 2"
       ]
      }
     ],
     "prompt_number": 91
    },
    {
     "cell_type": "code",
     "collapsed": false,
     "input": [],
     "language": "python",
     "metadata": {},
     "outputs": [
      {
       "output_type": "stream",
       "stream": "stdout",
       "text": [
        "[0, 0, 1, 1, 2]\n"
       ]
      }
     ],
     "prompt_number": 133
    },
    {
     "cell_type": "code",
     "collapsed": false,
     "input": [
      "\n",
      "\n",
      "#print CRP(10,0.25)\n",
      "#print np.arange(0,3)        "
     ],
     "language": "python",
     "metadata": {},
     "outputs": [
      {
       "output_type": "stream",
       "stream": "stdout",
       "text": [
        "[0 1 2]\n"
       ]
      }
     ],
     "prompt_number": 132
    },
    {
     "cell_type": "raw",
     "metadata": {},
     "source": [
      "\n"
     ]
    }
   ],
   "metadata": {}
  }
 ]
}