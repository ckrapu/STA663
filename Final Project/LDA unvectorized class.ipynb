{
 "metadata": {
  "name": "",
  "signature": "sha256:2e8fb4ad103a4871da4a90c85fbc4b6f097011c1e8b9ba5c1c6e0a4633835ecb"
 },
 "nbformat": 3,
 "nbformat_minor": 0,
 "worksheets": [
  {
   "cells": [
    {
     "cell_type": "code",
     "collapsed": false,
     "input": [
      "print sum(c.NZM[1])"
     ],
     "language": "python",
     "metadata": {},
     "outputs": [
      {
       "output_type": "stream",
       "stream": "stdout",
       "text": [
        "0\n"
       ]
      }
     ],
     "prompt_number": 18
    },
    {
     "cell_type": "code",
     "collapsed": false,
     "input": [
      "import LDA_utils\n",
      "import numpy as np\n",
      "import csv\n",
      "import copy\n",
      "import random\n",
      "  \n",
      "class LDA_Gibbs_Unvectorized:\n",
      "    def __init__(self,K,alpha,beta,V,corpus):\n",
      "        self.M = len(corpus)\n",
      "        self.alpha=alpha\n",
      "        self.beta=beta\n",
      "        self.V = V\n",
      "        self.K = K\n",
      "        \n",
      "        self.corpus = corpus\n",
      "        self.z = copy.deepcopy(corpus)\n",
      "        self.wordcount = 0\n",
      "        self.M = len(corpus)\n",
      "        \n",
      "        self.NZW = []\n",
      "        self.NZ = []\n",
      "        self.NZM= []\n",
      "        self.NM = []\n",
      "        self.thetaZM = []\n",
      "        self.phiZW = []\n",
      "        \n",
      "        m_vec=[]\n",
      "        w_vec=[]\n",
      "        \n",
      "        for i in range(0,self.M):\n",
      "            m_vec.append(0)\n",
      "        for j in range(0,V):\n",
      "            w_vec.append(0)\n",
      "        \n",
      "        \n",
      "        for i in range(0,K):\n",
      "            self.NZ.append(0)\n",
      "            \n",
      "            self.NZW.append(copy.deepcopy(w_vec))\n",
      "            \n",
      "            self.NZM.append(copy.deepcopy(m_vec))\n",
      "            \n",
      "            self.phiZW.append(copy.deepcopy(w_vec))\n",
      "            \n",
      "            self.thetaZM.append(copy.deepcopy(m_vec))\n",
      " \n",
      "        self.NM = copy.deepcopy(m_vec)\n",
      "        \n",
      "        \n",
      "               \n",
      "    def initialize_assignments(self):\n",
      "        print '--- setting topic assignments for each word'\n",
      "        for m,document in enumerate(self.corpus):\n",
      "            for n,word in enumerate(document):\n",
      "                new_z = random.randint(0,self.K-1)\n",
      "                self.NZ[new_z]+=1\n",
      "                self.NZM[new_z][m]+=1\n",
      "                self.NZW[new_z][word]+=1\n",
      "                self.wordcount +=1\n",
      "                self.NM[m]+=1\n",
      "                self.z[m][n] = new_z\n",
      "        \n",
      "    def iterate_Gibbs(self,iters):\n",
      "        print '--- sampling new assignments'\n",
      "        assert sum(self.NZ)==sum(self.NM)\n",
      "        for iter in range(iters):\n",
      "            print 'iteration ',iter\n",
      "            \n",
      "        \n",
      "            for m,document in enumerate(self.corpus):\n",
      "                for n,word in enumerate(document):\n",
      "                    p_z = []\n",
      "                    self.NZ[self.z[m][n]]-=1\n",
      "                    self.NZM[self.z[m][n]][m]-=1\n",
      "                    self.NZW[self.z[m][n]][word]-=1\n",
      "                    self.NM[m]-=1\n",
      "                \n",
      "                    for topic in range(self.K):\n",
      "                        p_z.append((self.NZW[topic][word]+self.beta)/(sum(self.NZW[topic][:])+ self.V * self.beta)*\n",
      "                                   (self.NZM[topic][m]+self.alpha)/(self.NM[m]+self.K*self.alpha))\n",
      "                                       \n",
      "                    draw = random.random() * sum(p_z)\n",
      "                                     \n",
      "                        \n",
      "                    p = 0\n",
      "                    draw_success = False\n",
      "                    for k in range(self.K):\n",
      "                        p +=p_z[k]\n",
      "                        assert p_z[k]>0\n",
      "                        \n",
      "                        if p >= draw:\n",
      "                            new_z = k\n",
      "                            draw_success = True\n",
      "                           \n",
      "                            break\n",
      "                    assert draw_success\n",
      "                    \n",
      "                    self.NZ[new_z]+=1\n",
      "                    self.NZM[new_z][m]+=1\n",
      "                    self.NZW[new_z][word]+=1\n",
      "                    self.wordcount +=1\n",
      "                    self.NM[m]+=1\n",
      "                    self.z[m][n] = new_z\n",
      "                \n",
      "                   \n",
      "        def estimate_parameters(self):\n",
      "            for m in range(self.M):\n",
      "                for k in range(self.K):\n",
      "                    self.thetaZM[k][m] += (self.NZM[k][m]+self.alpha) / (self.NM[m]+self.K*self.alpha)\n",
      "                \n",
      "            for k in range(self.K):\n",
      "                for w in range(self.V):\n",
      "                    self.phiZW[k][w]+=(self.NZW[k][w]+self.beta)/(self.NZ[k]+V*self.beta)\n",
      "        \n",
      "        \n",
      "        \n",
      "        \n",
      "        \n",
      "        \n",
      "        "
     ],
     "language": "python",
     "metadata": {},
     "outputs": [],
     "prompt_number": 97
    },
    {
     "cell_type": "code",
     "collapsed": false,
     "input": [
      "%time\n",
      "\n",
      "dictionary,corpus,text_corpus,wordCounts,uniqueWords = LDA_utils.text_munge('prince_alice.txt')\n",
      "GLDA = LDA_Gibbs_Unvectorized(3,2,0.5,len(uniqueWords),corpus)\n",
      "GLDA.initialize_assignments()\n",
      "GLDA.iterate_Gibbs(100)\n"
     ],
     "language": "python",
     "metadata": {},
     "outputs": [
      {
       "output_type": "stream",
       "stream": "stdout",
       "text": [
        "--- setting topic assignments for each word\n",
        "--- sampling new assignments"
       ]
      },
      {
       "output_type": "stream",
       "stream": "stdout",
       "text": [
        "\n",
        "iteration  0\n",
        "iteration "
       ]
      },
      {
       "output_type": "stream",
       "stream": "stdout",
       "text": [
        " 1\n",
        "iteration "
       ]
      },
      {
       "output_type": "stream",
       "stream": "stdout",
       "text": [
        " 2\n",
        "iteration "
       ]
      },
      {
       "output_type": "stream",
       "stream": "stdout",
       "text": [
        " 3\n",
        "iteration "
       ]
      },
      {
       "output_type": "stream",
       "stream": "stdout",
       "text": [
        " 4\n",
        "iteration "
       ]
      },
      {
       "output_type": "stream",
       "stream": "stdout",
       "text": [
        " 5\n"
       ]
      },
      {
       "ename": "KeyboardInterrupt",
       "evalue": "",
       "output_type": "pyerr",
       "traceback": [
        "\u001b[1;31m---------------------------------------------------------------------------\u001b[0m\n\u001b[1;31mKeyboardInterrupt\u001b[0m                         Traceback (most recent call last)",
        "\u001b[1;32m<ipython-input-96-5f1172606ac7>\u001b[0m in \u001b[0;36m<module>\u001b[1;34m()\u001b[0m\n\u001b[0;32m      4\u001b[0m \u001b[0mGLDA\u001b[0m \u001b[1;33m=\u001b[0m \u001b[0mLDA_Gibbs_Unvectorized\u001b[0m\u001b[1;33m(\u001b[0m\u001b[1;36m3\u001b[0m\u001b[1;33m,\u001b[0m\u001b[1;36m2\u001b[0m\u001b[1;33m,\u001b[0m\u001b[1;36m0.5\u001b[0m\u001b[1;33m,\u001b[0m\u001b[0mlen\u001b[0m\u001b[1;33m(\u001b[0m\u001b[0muniqueWords\u001b[0m\u001b[1;33m)\u001b[0m\u001b[1;33m,\u001b[0m\u001b[0mcorpus\u001b[0m\u001b[1;33m)\u001b[0m\u001b[1;33m\u001b[0m\u001b[0m\n\u001b[0;32m      5\u001b[0m \u001b[0mGLDA\u001b[0m\u001b[1;33m.\u001b[0m\u001b[0minitialize_assignments\u001b[0m\u001b[1;33m(\u001b[0m\u001b[1;33m)\u001b[0m\u001b[1;33m\u001b[0m\u001b[0m\n\u001b[1;32m----> 6\u001b[1;33m \u001b[0mGLDA\u001b[0m\u001b[1;33m.\u001b[0m\u001b[0miterate_Gibbs\u001b[0m\u001b[1;33m(\u001b[0m\u001b[1;36m100\u001b[0m\u001b[1;33m)\u001b[0m\u001b[1;33m\u001b[0m\u001b[0m\n\u001b[0m",
        "\u001b[1;32m<ipython-input-95-bf7d6f2472aa>\u001b[0m in \u001b[0;36miterate_Gibbs\u001b[1;34m(self, iters)\u001b[0m\n\u001b[0;32m     84\u001b[0m                     \u001b[1;32mfor\u001b[0m \u001b[0mtopic\u001b[0m \u001b[1;32min\u001b[0m \u001b[0mrange\u001b[0m\u001b[1;33m(\u001b[0m\u001b[0mself\u001b[0m\u001b[1;33m.\u001b[0m\u001b[0mK\u001b[0m\u001b[1;33m)\u001b[0m\u001b[1;33m:\u001b[0m\u001b[1;33m\u001b[0m\u001b[0m\n\u001b[0;32m     85\u001b[0m                         p_z.append((self.NZW[topic][word]+self.beta)/(sum(self.NZW[topic][:])+ self.V * self.beta)*\n\u001b[1;32m---> 86\u001b[1;33m                                    (self.NZM[topic][m]+self.alpha)/(self.NM[m]+self.K*self.alpha))\n\u001b[0m\u001b[0;32m     87\u001b[0m \u001b[1;33m\u001b[0m\u001b[0m\n\u001b[0;32m     88\u001b[0m \u001b[1;33m\u001b[0m\u001b[0m\n",
        "\u001b[1;31mKeyboardInterrupt\u001b[0m: "
       ]
      }
     ],
     "prompt_number": 96
    },
    {
     "cell_type": "code",
     "collapsed": false,
     "input": [
      "print GLDA.counts.NM"
     ],
     "language": "python",
     "metadata": {},
     "outputs": [
      {
       "output_type": "stream",
       "stream": "stdout",
       "text": [
        "[14, 6, 7, 7, 7, 7, 6]\n"
       ]
      }
     ],
     "prompt_number": 46
    }
   ],
   "metadata": {}
  }
 ]
}