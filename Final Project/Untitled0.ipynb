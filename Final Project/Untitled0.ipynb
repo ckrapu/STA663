{
 "metadata": {
  "name": "",
  "signature": "sha256:9e045babdbb11cc42c884c5c4234fec97b2d0097ece7f91d8b8c315f6431a45b"
 },
 "nbformat": 3,
 "nbformat_minor": 0,
 "worksheets": []
}