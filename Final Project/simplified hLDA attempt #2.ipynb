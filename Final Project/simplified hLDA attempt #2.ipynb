{
 "metadata": {
  "name": "",
  "signature": "sha256:1cf5fd87a11793b7d6618899425242c044123ddf3ee536220fa04fa288033df4"
 },
 "nbformat": 3,
 "nbformat_minor": 0,
 "worksheets": [
  {
   "cells": [
    {
     "cell_type": "code",
     "collapsed": false,
     "input": [],
     "language": "python",
     "metadata": {},
     "outputs": [
      {
       "output_type": "stream",
       "stream": "stdout",
       "text": [
        "True\n"
       ]
      }
     ],
     "prompt_number": 1
    }
   ],
   "metadata": {}
  }
 ]
}